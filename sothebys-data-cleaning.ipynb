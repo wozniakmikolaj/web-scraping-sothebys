{
 "cells": [
  {
   "cell_type": "markdown",
   "metadata": {},
   "source": [
    "# Data cleaning and feature engineering"
   ]
  },
  {
   "cell_type": "markdown",
   "metadata": {},
   "source": [
    "This notebook guides through the process of cleaning the data and extracting meaningful informations as well as feature engineering. "
   ]
  },
  {
   "cell_type": "code",
   "execution_count": 1,
   "metadata": {},
   "outputs": [],
   "source": [
    "import pandas as pd\n",
    "import matplotlib.pyplot as plt\n",
    "import seaborn as sns\n",
    "import re\n",
    "\n",
    "%matplotlib inline\n",
    "\n",
    "data_path = \"data/sothebys_scraped.csv\"\n",
    "export_path = \"data/sothebys_clean.csv\""
   ]
  },
  {
   "cell_type": "markdown",
   "metadata": {},
   "source": [
    "Let's read in the data and take look at our dataset."
   ]
  },
  {
   "cell_type": "code",
   "execution_count": 2,
   "metadata": {},
   "outputs": [],
   "source": [
    "auctions = pd.read_csv(data_path)"
   ]
  },
  {
   "cell_type": "code",
   "execution_count": 5,
   "metadata": {},
   "outputs": [
    {
     "data": {
      "text/plain": [
       "(34514, 6)"
      ]
     },
     "execution_count": 5,
     "metadata": {},
     "output_type": "execute_result"
    }
   ],
   "source": [
    "auctions.shape"
   ]
  },
  {
   "cell_type": "markdown",
   "metadata": {},
   "source": [
    "## Initial data cleaning"
   ]
  },
  {
   "cell_type": "code",
   "execution_count": 4,
   "metadata": {},
   "outputs": [
    {
     "data": {
      "text/html": [
       "<div>\n",
       "<style scoped>\n",
       "    .dataframe tbody tr th:only-of-type {\n",
       "        vertical-align: middle;\n",
       "    }\n",
       "\n",
       "    .dataframe tbody tr th {\n",
       "        vertical-align: top;\n",
       "    }\n",
       "\n",
       "    .dataframe thead th {\n",
       "        text-align: right;\n",
       "    }\n",
       "</style>\n",
       "<table border=\"1\" class=\"dataframe\">\n",
       "  <thead>\n",
       "    <tr style=\"text-align: right;\">\n",
       "      <th></th>\n",
       "      <th>car_info</th>\n",
       "      <th>price</th>\n",
       "      <th>additional_info</th>\n",
       "      <th>auction_type</th>\n",
       "      <th>auction_location</th>\n",
       "      <th>lot</th>\n",
       "    </tr>\n",
       "  </thead>\n",
       "  <tbody>\n",
       "    <tr>\n",
       "      <th>0</th>\n",
       "      <td>2017 Jeep Wrangler Custom</td>\n",
       "      <td>Sold For $57,120</td>\n",
       "      <td>NaN</td>\n",
       "      <td>RM | ONLINE ONLY</td>\n",
       "      <td>ONLINE ONLY: DRIVE INTO THE HOLIDAYS 2019</td>\n",
       "      <td>Lot 107</td>\n",
       "    </tr>\n",
       "    <tr>\n",
       "      <th>1</th>\n",
       "      <td>1966 Austin-Healey 3000 Mk III BJ8</td>\n",
       "      <td>Sold For $58,240</td>\n",
       "      <td>NaN</td>\n",
       "      <td>RM | ONLINE ONLY</td>\n",
       "      <td>ONLINE ONLY: DRIVE INTO THE HOLIDAYS 2019</td>\n",
       "      <td>Lot 106</td>\n",
       "    </tr>\n",
       "    <tr>\n",
       "      <th>2</th>\n",
       "      <td>1989 Ferrari Testarossa</td>\n",
       "      <td>Sold After Auction</td>\n",
       "      <td>NaN</td>\n",
       "      <td>RM | ONLINE ONLY</td>\n",
       "      <td>ONLINE ONLY: DRIVE INTO THE HOLIDAYS 2019</td>\n",
       "      <td>Lot 105</td>\n",
       "    </tr>\n",
       "    <tr>\n",
       "      <th>3</th>\n",
       "      <td>2018 Audi SQ5</td>\n",
       "      <td>Sold For $42,560</td>\n",
       "      <td>NaN</td>\n",
       "      <td>RM | ONLINE ONLY</td>\n",
       "      <td>ONLINE ONLY: DRIVE INTO THE HOLIDAYS 2019</td>\n",
       "      <td>Lot 104</td>\n",
       "    </tr>\n",
       "    <tr>\n",
       "      <th>4</th>\n",
       "      <td>1960 Austin-Healey 3000 Mk I BN7</td>\n",
       "      <td>Sold For $40,320</td>\n",
       "      <td>NaN</td>\n",
       "      <td>RM | ONLINE ONLY</td>\n",
       "      <td>ONLINE ONLY: DRIVE INTO THE HOLIDAYS 2019</td>\n",
       "      <td>Lot 103</td>\n",
       "    </tr>\n",
       "  </tbody>\n",
       "</table>\n",
       "</div>"
      ],
      "text/plain": [
       "                              car_info               price additional_info  \\\n",
       "0           2017 Jeep Wrangler Custom     Sold For $57,120             NaN   \n",
       "1  1966 Austin-Healey 3000 Mk III BJ8     Sold For $58,240             NaN   \n",
       "2             1989 Ferrari Testarossa   Sold After Auction             NaN   \n",
       "3                       2018 Audi SQ5     Sold For $42,560             NaN   \n",
       "4    1960 Austin-Healey 3000 Mk I BN7     Sold For $40,320             NaN   \n",
       "\n",
       "       auction_type                           auction_location      lot  \n",
       "0  RM | ONLINE ONLY  ONLINE ONLY: DRIVE INTO THE HOLIDAYS 2019  Lot 107  \n",
       "1  RM | ONLINE ONLY  ONLINE ONLY: DRIVE INTO THE HOLIDAYS 2019  Lot 106  \n",
       "2  RM | ONLINE ONLY  ONLINE ONLY: DRIVE INTO THE HOLIDAYS 2019  Lot 105  \n",
       "3  RM | ONLINE ONLY  ONLINE ONLY: DRIVE INTO THE HOLIDAYS 2019  Lot 104  \n",
       "4  RM | ONLINE ONLY  ONLINE ONLY: DRIVE INTO THE HOLIDAYS 2019  Lot 103  "
      ]
     },
     "execution_count": 4,
     "metadata": {},
     "output_type": "execute_result"
    }
   ],
   "source": [
    "auctions.head(5)"
   ]
  },
  {
   "cell_type": "markdown",
   "metadata": {},
   "source": [
    "Since we can see lots on null values in additional info column, let's check if this column is worth keeping. We'll also check out auction type column."
   ]
  },
  {
   "cell_type": "code",
   "execution_count": 17,
   "metadata": {},
   "outputs": [
    {
     "data": {
      "text/plain": [
       "AUBURN FALL 2011                                              3.323289\n",
       "AUBURN FALL 2013                                              3.262444\n",
       "AUBURN FALL 2014                                              3.048038\n",
       "AUBURN FALL 2012                                              2.816248\n",
       "AUCTIONS AMERICA BY RM - AUBURN COLLECTOR CAR AUCTION 2010    2.636611\n",
       "                                                                ...   \n",
       "NEW YORK - ICONS 2017                                         0.092716\n",
       "VILLA D'ESTE 2011                                             0.089819\n",
       "NEW YORK - DRIVEN BY DISRUPTION 2015                          0.089819\n",
       "ONLINE ONLY: DRIVE INTO THE HOLIDAYS 2019                     0.020282\n",
       "NaN                                                           0.017384\n",
       "Name: auction_location, Length: 164, dtype: float64"
      ]
     },
     "execution_count": 17,
     "metadata": {},
     "output_type": "execute_result"
    }
   ],
   "source": [
    "((auctions[\"additional_info\"].value_counts(dropna=False))/(auctions.shape[0]))*100"
   ]
  },
  {
   "cell_type": "code",
   "execution_count": 18,
   "metadata": {},
   "outputs": [
    {
     "data": {
      "text/plain": [
       "RM | AUCTIONS       77.950976\n",
       "RM | SOTHEBY'S      22.011358\n",
       "RM | ONLINE ONLY     0.037666\n",
       "Name: auction_type, dtype: float64"
      ]
     },
     "execution_count": 18,
     "metadata": {},
     "output_type": "execute_result"
    }
   ],
   "source": [
    "((auctions[\"auction_type\"].value_counts(dropna=False))/(auctions.shape[0]))*100"
   ]
  },
  {
   "cell_type": "markdown",
   "metadata": {},
   "source": [
    "Around 90% of this column's values are null, let's drop it from our dataset. We'll also drop auction type from our dataset."
   ]
  },
  {
   "cell_type": "code",
   "execution_count": 14,
   "metadata": {},
   "outputs": [],
   "source": [
    "auctions.drop([\"additional_info\", \"auction_type\"], axis=1, inplace=True)"
   ]
  },
  {
   "cell_type": "code",
   "execution_count": null,
   "metadata": {},
   "outputs": [],
   "source": []
  },
  {
   "cell_type": "code",
   "execution_count": null,
   "metadata": {},
   "outputs": [],
   "source": []
  },
  {
   "cell_type": "code",
   "execution_count": null,
   "metadata": {},
   "outputs": [],
   "source": []
  },
  {
   "cell_type": "code",
   "execution_count": null,
   "metadata": {},
   "outputs": [],
   "source": []
  },
  {
   "cell_type": "code",
   "execution_count": null,
   "metadata": {},
   "outputs": [],
   "source": []
  },
  {
   "cell_type": "code",
   "execution_count": null,
   "metadata": {},
   "outputs": [],
   "source": []
  },
  {
   "cell_type": "code",
   "execution_count": null,
   "metadata": {},
   "outputs": [],
   "source": []
  },
  {
   "cell_type": "code",
   "execution_count": null,
   "metadata": {},
   "outputs": [],
   "source": []
  },
  {
   "cell_type": "code",
   "execution_count": null,
   "metadata": {},
   "outputs": [],
   "source": []
  },
  {
   "cell_type": "markdown",
   "metadata": {},
   "source": [
    "## Feature engineering"
   ]
  },
  {
   "cell_type": "code",
   "execution_count": null,
   "metadata": {},
   "outputs": [],
   "source": [
    "# dates = nyc_data[\"date\"].str.split(\"/\", n=2, expand=True)\n",
    "# nyc_data.insert(2, \"month\", dates[0])\n",
    "# nyc_data.insert(3, \"day\", dates[1])"
   ]
  },
  {
   "cell_type": "markdown",
   "metadata": {},
   "source": [
    "Since breaking down existing columns into a few more detailed ones is something we'll do many times, it might be a good idea to write a simple function that does it for us. Luckily, there is already a good function for splitting the data, so we only need a function that assigns the data based on the split."
   ]
  },
  {
   "cell_type": "code",
   "execution_count": 54,
   "metadata": {},
   "outputs": [],
   "source": [
    "def assign_split_data(dataset, split_data, col_list):\n",
    "    \n",
    "    for split in range(split_data.shape[1]):\n",
    "        dataset.insert(split, col_list[split], split_data[split])"
   ]
  },
  {
   "cell_type": "markdown",
   "metadata": {},
   "source": [
    "First, let's break down our data into more columns. We'll start with `car_info`."
   ]
  },
  {
   "cell_type": "code",
   "execution_count": 55,
   "metadata": {},
   "outputs": [
    {
     "data": {
      "text/plain": [
       "0             2017 Jeep Wrangler Custom \n",
       "1    1966 Austin-Healey 3000 Mk III BJ8 \n",
       "2               1989 Ferrari Testarossa \n",
       "3                         2018 Audi SQ5 \n",
       "4      1960 Austin-Healey 3000 Mk I BN7 \n",
       "Name: car_info, dtype: object"
      ]
     },
     "execution_count": 55,
     "metadata": {},
     "output_type": "execute_result"
    }
   ],
   "source": [
    "auctions[\"car_info\"][:5]"
   ]
  },
  {
   "cell_type": "markdown",
   "metadata": {},
   "source": [
    "Seeing the first 5 entires, we can deduct that it's reasonable to split the column into 4 new columns: \n",
    "- year the car was made\n",
    "- manufacturer (the make of the car)\n",
    "- the model\n",
    "- model's variant\n",
    "\n",
    "We could be more specific but that's something we can easily fix later on when we do the initial analysis."
   ]
  },
  {
   "cell_type": "code",
   "execution_count": 56,
   "metadata": {},
   "outputs": [],
   "source": [
    "car_cols = [\"year\", \"manufacturer\", \"model\", \"variant\"]\n",
    "car_description = auctions[\"car_info\"].str.split(\" \", n=3, expand=True)"
   ]
  },
  {
   "cell_type": "code",
   "execution_count": 57,
   "metadata": {},
   "outputs": [],
   "source": [
    "assign_split_data(auctions, car_description, car_cols)"
   ]
  },
  {
   "cell_type": "code",
   "execution_count": 66,
   "metadata": {},
   "outputs": [
    {
     "data": {
      "text/html": [
       "<div>\n",
       "<style scoped>\n",
       "    .dataframe tbody tr th:only-of-type {\n",
       "        vertical-align: middle;\n",
       "    }\n",
       "\n",
       "    .dataframe tbody tr th {\n",
       "        vertical-align: top;\n",
       "    }\n",
       "\n",
       "    .dataframe thead th {\n",
       "        text-align: right;\n",
       "    }\n",
       "</style>\n",
       "<table border=\"1\" class=\"dataframe\">\n",
       "  <thead>\n",
       "    <tr style=\"text-align: right;\">\n",
       "      <th></th>\n",
       "      <th>year</th>\n",
       "      <th>manufacturer</th>\n",
       "      <th>model</th>\n",
       "      <th>variant</th>\n",
       "      <th>car_info</th>\n",
       "      <th>price</th>\n",
       "      <th>auction_type</th>\n",
       "      <th>auction_location</th>\n",
       "    </tr>\n",
       "  </thead>\n",
       "  <tbody>\n",
       "    <tr>\n",
       "      <th>0</th>\n",
       "      <td>2017</td>\n",
       "      <td>Jeep</td>\n",
       "      <td>Wrangler</td>\n",
       "      <td>Custom</td>\n",
       "      <td>2017 Jeep Wrangler Custom</td>\n",
       "      <td>Sold For $57,120</td>\n",
       "      <td>RM | ONLINE ONLY</td>\n",
       "      <td>ONLINE ONLY: DRIVE INTO THE HOLIDAYS 2019</td>\n",
       "    </tr>\n",
       "    <tr>\n",
       "      <th>1</th>\n",
       "      <td>1966</td>\n",
       "      <td>Austin-Healey</td>\n",
       "      <td>3000</td>\n",
       "      <td>Mk III BJ8</td>\n",
       "      <td>1966 Austin-Healey 3000 Mk III BJ8</td>\n",
       "      <td>Sold For $58,240</td>\n",
       "      <td>RM | ONLINE ONLY</td>\n",
       "      <td>ONLINE ONLY: DRIVE INTO THE HOLIDAYS 2019</td>\n",
       "    </tr>\n",
       "    <tr>\n",
       "      <th>2</th>\n",
       "      <td>1989</td>\n",
       "      <td>Ferrari</td>\n",
       "      <td>Testarossa</td>\n",
       "      <td></td>\n",
       "      <td>1989 Ferrari Testarossa</td>\n",
       "      <td>Sold After Auction</td>\n",
       "      <td>RM | ONLINE ONLY</td>\n",
       "      <td>ONLINE ONLY: DRIVE INTO THE HOLIDAYS 2019</td>\n",
       "    </tr>\n",
       "    <tr>\n",
       "      <th>3</th>\n",
       "      <td>2018</td>\n",
       "      <td>Audi</td>\n",
       "      <td>SQ5</td>\n",
       "      <td></td>\n",
       "      <td>2018 Audi SQ5</td>\n",
       "      <td>Sold For $42,560</td>\n",
       "      <td>RM | ONLINE ONLY</td>\n",
       "      <td>ONLINE ONLY: DRIVE INTO THE HOLIDAYS 2019</td>\n",
       "    </tr>\n",
       "    <tr>\n",
       "      <th>4</th>\n",
       "      <td>1960</td>\n",
       "      <td>Austin-Healey</td>\n",
       "      <td>3000</td>\n",
       "      <td>Mk I BN7</td>\n",
       "      <td>1960 Austin-Healey 3000 Mk I BN7</td>\n",
       "      <td>Sold For $40,320</td>\n",
       "      <td>RM | ONLINE ONLY</td>\n",
       "      <td>ONLINE ONLY: DRIVE INTO THE HOLIDAYS 2019</td>\n",
       "    </tr>\n",
       "  </tbody>\n",
       "</table>\n",
       "</div>"
      ],
      "text/plain": [
       "   year   manufacturer       model      variant  \\\n",
       "0  2017           Jeep    Wrangler      Custom    \n",
       "1  1966  Austin-Healey        3000  Mk III BJ8    \n",
       "2  1989        Ferrari  Testarossa                \n",
       "3  2018           Audi         SQ5                \n",
       "4  1960  Austin-Healey        3000    Mk I BN7    \n",
       "\n",
       "                              car_info               price      auction_type  \\\n",
       "0           2017 Jeep Wrangler Custom     Sold For $57,120  RM | ONLINE ONLY   \n",
       "1  1966 Austin-Healey 3000 Mk III BJ8     Sold For $58,240  RM | ONLINE ONLY   \n",
       "2             1989 Ferrari Testarossa   Sold After Auction  RM | ONLINE ONLY   \n",
       "3                       2018 Audi SQ5     Sold For $42,560  RM | ONLINE ONLY   \n",
       "4    1960 Austin-Healey 3000 Mk I BN7     Sold For $40,320  RM | ONLINE ONLY   \n",
       "\n",
       "                            auction_location  \n",
       "0  ONLINE ONLY: DRIVE INTO THE HOLIDAYS 2019  \n",
       "1  ONLINE ONLY: DRIVE INTO THE HOLIDAYS 2019  \n",
       "2  ONLINE ONLY: DRIVE INTO THE HOLIDAYS 2019  \n",
       "3  ONLINE ONLY: DRIVE INTO THE HOLIDAYS 2019  \n",
       "4  ONLINE ONLY: DRIVE INTO THE HOLIDAYS 2019  "
      ]
     },
     "execution_count": 66,
     "metadata": {},
     "output_type": "execute_result"
    }
   ],
   "source": [
    "auctions.head(5)"
   ]
  },
  {
   "cell_type": "code",
   "execution_count": null,
   "metadata": {},
   "outputs": [],
   "source": []
  },
  {
   "cell_type": "code",
   "execution_count": null,
   "metadata": {},
   "outputs": [],
   "source": []
  },
  {
   "cell_type": "code",
   "execution_count": null,
   "metadata": {},
   "outputs": [],
   "source": []
  },
  {
   "cell_type": "code",
   "execution_count": null,
   "metadata": {},
   "outputs": [],
   "source": []
  },
  {
   "cell_type": "code",
   "execution_count": null,
   "metadata": {},
   "outputs": [],
   "source": []
  },
  {
   "cell_type": "markdown",
   "metadata": {},
   "source": [
    "Let's drop the original columns."
   ]
  },
  {
   "cell_type": "code",
   "execution_count": null,
   "metadata": {},
   "outputs": [],
   "source": []
  },
  {
   "cell_type": "markdown",
   "metadata": {},
   "source": [
    "Last step is to export the data for others to use."
   ]
  },
  {
   "cell_type": "code",
   "execution_count": null,
   "metadata": {},
   "outputs": [],
   "source": [
    "# exported = auctions.to_csv(export_path, index = None, header=True)"
   ]
  },
  {
   "cell_type": "markdown",
   "metadata": {},
   "source": [
    "## Conclusions"
   ]
  },
  {
   "cell_type": "code",
   "execution_count": null,
   "metadata": {},
   "outputs": [],
   "source": []
  }
 ],
 "metadata": {
  "kernelspec": {
   "display_name": "Python 3",
   "language": "python",
   "name": "python3"
  },
  "language_info": {
   "codemirror_mode": {
    "name": "ipython",
    "version": 3
   },
   "file_extension": ".py",
   "mimetype": "text/x-python",
   "name": "python",
   "nbconvert_exporter": "python",
   "pygments_lexer": "ipython3",
   "version": "3.6.9"
  }
 },
 "nbformat": 4,
 "nbformat_minor": 2
}
