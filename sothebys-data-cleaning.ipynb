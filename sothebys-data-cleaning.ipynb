{
 "cells": [
  {
   "cell_type": "markdown",
   "metadata": {},
   "source": [
    "# Data cleaning and feature engineering"
   ]
  },
  {
   "cell_type": "markdown",
   "metadata": {},
   "source": [
    "This notebook guides through the process of cleaning the data and extracting meaningful informations as well as feature engineering. "
   ]
  },
  {
   "cell_type": "code",
   "execution_count": 175,
   "metadata": {},
   "outputs": [],
   "source": [
    "import numpy as np\n",
    "import pandas as pd\n",
    "import matplotlib.pyplot as plt\n",
    "import seaborn as sns\n",
    "import re\n",
    "\n",
    "%matplotlib inline\n",
    "\n",
    "data_path = \"data/sothebys_scraped.csv\"\n",
    "export_path = \"data/sothebys_clean.csv\""
   ]
  },
  {
   "cell_type": "markdown",
   "metadata": {},
   "source": [
    "Let's read in the data and take look at our dataset."
   ]
  },
  {
   "cell_type": "code",
   "execution_count": 176,
   "metadata": {},
   "outputs": [],
   "source": [
    "auctions = pd.read_csv(data_path)"
   ]
  },
  {
   "cell_type": "code",
   "execution_count": 177,
   "metadata": {},
   "outputs": [
    {
     "data": {
      "text/plain": [
       "(34514, 6)"
      ]
     },
     "execution_count": 177,
     "metadata": {},
     "output_type": "execute_result"
    }
   ],
   "source": [
    "auctions.shape"
   ]
  },
  {
   "cell_type": "code",
   "execution_count": 178,
   "metadata": {},
   "outputs": [
    {
     "data": {
      "text/html": [
       "<div>\n",
       "<style scoped>\n",
       "    .dataframe tbody tr th:only-of-type {\n",
       "        vertical-align: middle;\n",
       "    }\n",
       "\n",
       "    .dataframe tbody tr th {\n",
       "        vertical-align: top;\n",
       "    }\n",
       "\n",
       "    .dataframe thead th {\n",
       "        text-align: right;\n",
       "    }\n",
       "</style>\n",
       "<table border=\"1\" class=\"dataframe\">\n",
       "  <thead>\n",
       "    <tr style=\"text-align: right;\">\n",
       "      <th></th>\n",
       "      <th>car_info</th>\n",
       "      <th>price</th>\n",
       "      <th>additional_info</th>\n",
       "      <th>auction_type</th>\n",
       "      <th>auction_location</th>\n",
       "      <th>lot</th>\n",
       "    </tr>\n",
       "  </thead>\n",
       "  <tbody>\n",
       "    <tr>\n",
       "      <th>0</th>\n",
       "      <td>2017 Jeep Wrangler Custom</td>\n",
       "      <td>Sold For $57,120</td>\n",
       "      <td>NaN</td>\n",
       "      <td>RM | ONLINE ONLY</td>\n",
       "      <td>ONLINE ONLY: DRIVE INTO THE HOLIDAYS 2019</td>\n",
       "      <td>Lot 107</td>\n",
       "    </tr>\n",
       "    <tr>\n",
       "      <th>1</th>\n",
       "      <td>1966 Austin-Healey 3000 Mk III BJ8</td>\n",
       "      <td>Sold For $58,240</td>\n",
       "      <td>NaN</td>\n",
       "      <td>RM | ONLINE ONLY</td>\n",
       "      <td>ONLINE ONLY: DRIVE INTO THE HOLIDAYS 2019</td>\n",
       "      <td>Lot 106</td>\n",
       "    </tr>\n",
       "    <tr>\n",
       "      <th>2</th>\n",
       "      <td>1989 Ferrari Testarossa</td>\n",
       "      <td>Sold After Auction</td>\n",
       "      <td>NaN</td>\n",
       "      <td>RM | ONLINE ONLY</td>\n",
       "      <td>ONLINE ONLY: DRIVE INTO THE HOLIDAYS 2019</td>\n",
       "      <td>Lot 105</td>\n",
       "    </tr>\n",
       "    <tr>\n",
       "      <th>3</th>\n",
       "      <td>2018 Audi SQ5</td>\n",
       "      <td>Sold For $42,560</td>\n",
       "      <td>NaN</td>\n",
       "      <td>RM | ONLINE ONLY</td>\n",
       "      <td>ONLINE ONLY: DRIVE INTO THE HOLIDAYS 2019</td>\n",
       "      <td>Lot 104</td>\n",
       "    </tr>\n",
       "    <tr>\n",
       "      <th>4</th>\n",
       "      <td>1960 Austin-Healey 3000 Mk I BN7</td>\n",
       "      <td>Sold For $40,320</td>\n",
       "      <td>NaN</td>\n",
       "      <td>RM | ONLINE ONLY</td>\n",
       "      <td>ONLINE ONLY: DRIVE INTO THE HOLIDAYS 2019</td>\n",
       "      <td>Lot 103</td>\n",
       "    </tr>\n",
       "    <tr>\n",
       "      <th>5</th>\n",
       "      <td>2006 Ford GT</td>\n",
       "      <td>Sold After Auction</td>\n",
       "      <td>NaN</td>\n",
       "      <td>RM | ONLINE ONLY</td>\n",
       "      <td>ONLINE ONLY: DRIVE INTO THE HOLIDAYS 2019</td>\n",
       "      <td>Lot 102</td>\n",
       "    </tr>\n",
       "    <tr>\n",
       "      <th>6</th>\n",
       "      <td>1967 Austin Mini Moke</td>\n",
       "      <td>Sold For $50,400</td>\n",
       "      <td>NaN</td>\n",
       "      <td>RM | ONLINE ONLY</td>\n",
       "      <td>ONLINE ONLY: DRIVE INTO THE HOLIDAYS 2019</td>\n",
       "      <td>Lot 101</td>\n",
       "    </tr>\n",
       "    <tr>\n",
       "      <th>7</th>\n",
       "      <td>2009 Mercedes-Benz SL 65 AMG Black Series</td>\n",
       "      <td>Sold For $161,000</td>\n",
       "      <td>NaN</td>\n",
       "      <td>RM | SOTHEBY'S</td>\n",
       "      <td>ABU DHABI 2019</td>\n",
       "      <td>Lot 103</td>\n",
       "    </tr>\n",
       "    <tr>\n",
       "      <th>8</th>\n",
       "      <td>2011 Porsche 911 Speedster</td>\n",
       "      <td>$300,000 - $350,000</td>\n",
       "      <td>NaN</td>\n",
       "      <td>RM | SOTHEBY'S</td>\n",
       "      <td>ABU DHABI 2019</td>\n",
       "      <td>Lot 104</td>\n",
       "    </tr>\n",
       "    <tr>\n",
       "      <th>9</th>\n",
       "      <td>1973 Ferrari 365 GTB/4 Daytona Berlinetta by S...</td>\n",
       "      <td>Sold For $484,375</td>\n",
       "      <td>NaN</td>\n",
       "      <td>RM | SOTHEBY'S</td>\n",
       "      <td>ABU DHABI 2019</td>\n",
       "      <td>Lot 105</td>\n",
       "    </tr>\n",
       "  </tbody>\n",
       "</table>\n",
       "</div>"
      ],
      "text/plain": [
       "                                            car_info                price  \\\n",
       "0                         2017 Jeep Wrangler Custom      Sold For $57,120   \n",
       "1                1966 Austin-Healey 3000 Mk III BJ8      Sold For $58,240   \n",
       "2                           1989 Ferrari Testarossa    Sold After Auction   \n",
       "3                                     2018 Audi SQ5      Sold For $42,560   \n",
       "4                  1960 Austin-Healey 3000 Mk I BN7      Sold For $40,320   \n",
       "5                                      2006 Ford GT    Sold After Auction   \n",
       "6                             1967 Austin Mini Moke      Sold For $50,400   \n",
       "7         2009 Mercedes-Benz SL 65 AMG Black Series     Sold For $161,000   \n",
       "8                        2011 Porsche 911 Speedster   $300,000 - $350,000   \n",
       "9  1973 Ferrari 365 GTB/4 Daytona Berlinetta by S...    Sold For $484,375   \n",
       "\n",
       "  additional_info      auction_type  \\\n",
       "0             NaN  RM | ONLINE ONLY   \n",
       "1             NaN  RM | ONLINE ONLY   \n",
       "2             NaN  RM | ONLINE ONLY   \n",
       "3             NaN  RM | ONLINE ONLY   \n",
       "4             NaN  RM | ONLINE ONLY   \n",
       "5             NaN  RM | ONLINE ONLY   \n",
       "6             NaN  RM | ONLINE ONLY   \n",
       "7             NaN    RM | SOTHEBY'S   \n",
       "8             NaN    RM | SOTHEBY'S   \n",
       "9             NaN    RM | SOTHEBY'S   \n",
       "\n",
       "                            auction_location      lot  \n",
       "0  ONLINE ONLY: DRIVE INTO THE HOLIDAYS 2019  Lot 107  \n",
       "1  ONLINE ONLY: DRIVE INTO THE HOLIDAYS 2019  Lot 106  \n",
       "2  ONLINE ONLY: DRIVE INTO THE HOLIDAYS 2019  Lot 105  \n",
       "3  ONLINE ONLY: DRIVE INTO THE HOLIDAYS 2019  Lot 104  \n",
       "4  ONLINE ONLY: DRIVE INTO THE HOLIDAYS 2019  Lot 103  \n",
       "5  ONLINE ONLY: DRIVE INTO THE HOLIDAYS 2019  Lot 102  \n",
       "6  ONLINE ONLY: DRIVE INTO THE HOLIDAYS 2019  Lot 101  \n",
       "7                             ABU DHABI 2019  Lot 103  \n",
       "8                             ABU DHABI 2019  Lot 104  \n",
       "9                             ABU DHABI 2019  Lot 105  "
      ]
     },
     "execution_count": 178,
     "metadata": {},
     "output_type": "execute_result"
    }
   ],
   "source": [
    "auctions[:10]"
   ]
  },
  {
   "cell_type": "markdown",
   "metadata": {},
   "source": [
    "## Initial data cleaning"
   ]
  },
  {
   "cell_type": "markdown",
   "metadata": {},
   "source": [
    "Our first step in the data cleaning process will be making all the records uniform; we'll make them uppercase."
   ]
  },
  {
   "cell_type": "code",
   "execution_count": 179,
   "metadata": {},
   "outputs": [],
   "source": [
    "for col in auctions.columns:\n",
    "    auctions[col] = auctions[col].str.upper()"
   ]
  },
  {
   "cell_type": "markdown",
   "metadata": {},
   "source": [
    "Let's start with `car_info` column. Since it's one of the most important ones, we'll have to delete those that are null."
   ]
  },
  {
   "cell_type": "code",
   "execution_count": 180,
   "metadata": {},
   "outputs": [
    {
     "data": {
      "text/plain": [
       "1957 FORD THUNDERBIRD                              124\n",
       "1957 CHEVROLET BEL AIR                             117\n",
       "1955 FORD THUNDERBIRD                               77\n",
       "1966 FORD MUSTANG                                   62\n",
       "1956 FORD THUNDERBIRD                               62\n",
       "                                                  ... \n",
       "1988 CADILLAC SEDAN DEVILLE                          1\n",
       "1985 BMW M6                                          1\n",
       "1976 ROLLS-ROYCE SILVER SHADOW FOUR DOOR SEDAN       1\n",
       "1932 CHREVROLET FIVE-WINDOW SPORT                    1\n",
       "1925 BENTLEY 3-LITRE TOURER BY GURNEY NUTTING        1\n",
       "Name: car_info, Length: 21252, dtype: int64"
      ]
     },
     "execution_count": 180,
     "metadata": {},
     "output_type": "execute_result"
    }
   ],
   "source": [
    "auctions[\"car_info\"].value_counts(dropna=False)"
   ]
  },
  {
   "cell_type": "code",
   "execution_count": 181,
   "metadata": {},
   "outputs": [
    {
     "data": {
      "text/html": [
       "<div>\n",
       "<style scoped>\n",
       "    .dataframe tbody tr th:only-of-type {\n",
       "        vertical-align: middle;\n",
       "    }\n",
       "\n",
       "    .dataframe tbody tr th {\n",
       "        vertical-align: top;\n",
       "    }\n",
       "\n",
       "    .dataframe thead th {\n",
       "        text-align: right;\n",
       "    }\n",
       "</style>\n",
       "<table border=\"1\" class=\"dataframe\">\n",
       "  <thead>\n",
       "    <tr style=\"text-align: right;\">\n",
       "      <th></th>\n",
       "      <th>car_info</th>\n",
       "      <th>price</th>\n",
       "      <th>additional_info</th>\n",
       "      <th>auction_type</th>\n",
       "      <th>auction_location</th>\n",
       "      <th>lot</th>\n",
       "    </tr>\n",
       "  </thead>\n",
       "  <tbody>\n",
       "    <tr>\n",
       "      <th>29087</th>\n",
       "      <td>NaN</td>\n",
       "      <td>SOLD FOR $334</td>\n",
       "      <td>NaN</td>\n",
       "      <td>RM | AUCTIONS</td>\n",
       "      <td>SPRING CARLISLE AUCTION 2011</td>\n",
       "      <td>LOT N001</td>\n",
       "    </tr>\n",
       "    <tr>\n",
       "      <th>29088</th>\n",
       "      <td>NaN</td>\n",
       "      <td>SOLD FOR $173</td>\n",
       "      <td>NaN</td>\n",
       "      <td>RM | AUCTIONS</td>\n",
       "      <td>SPRING CARLISLE AUCTION 2011</td>\n",
       "      <td>LOT N002</td>\n",
       "    </tr>\n",
       "    <tr>\n",
       "      <th>29089</th>\n",
       "      <td>NaN</td>\n",
       "      <td>SOLD FOR $219</td>\n",
       "      <td>NaN</td>\n",
       "      <td>RM | AUCTIONS</td>\n",
       "      <td>SPRING CARLISLE AUCTION 2011</td>\n",
       "      <td>LOT N003</td>\n",
       "    </tr>\n",
       "    <tr>\n",
       "      <th>29090</th>\n",
       "      <td>NaN</td>\n",
       "      <td>SOLD FOR $173</td>\n",
       "      <td>NaN</td>\n",
       "      <td>RM | AUCTIONS</td>\n",
       "      <td>SPRING CARLISLE AUCTION 2011</td>\n",
       "      <td>LOT N004</td>\n",
       "    </tr>\n",
       "    <tr>\n",
       "      <th>29091</th>\n",
       "      <td>NaN</td>\n",
       "      <td>SOLD FOR $270</td>\n",
       "      <td>NaN</td>\n",
       "      <td>RM | AUCTIONS</td>\n",
       "      <td>SPRING CARLISLE AUCTION 2011</td>\n",
       "      <td>LOT N005</td>\n",
       "    </tr>\n",
       "    <tr>\n",
       "      <th>29092</th>\n",
       "      <td>NaN</td>\n",
       "      <td>SOLD FOR $173</td>\n",
       "      <td>NaN</td>\n",
       "      <td>RM | AUCTIONS</td>\n",
       "      <td>SPRING CARLISLE AUCTION 2011</td>\n",
       "      <td>LOT N011</td>\n",
       "    </tr>\n",
       "    <tr>\n",
       "      <th>29093</th>\n",
       "      <td>NaN</td>\n",
       "      <td>SOLD FOR $144</td>\n",
       "      <td>NaN</td>\n",
       "      <td>RM | AUCTIONS</td>\n",
       "      <td>SPRING CARLISLE AUCTION 2011</td>\n",
       "      <td>LOT N014</td>\n",
       "    </tr>\n",
       "    <tr>\n",
       "      <th>29094</th>\n",
       "      <td>NaN</td>\n",
       "      <td>SOLD FOR $219</td>\n",
       "      <td>NaN</td>\n",
       "      <td>RM | AUCTIONS</td>\n",
       "      <td>SPRING CARLISLE AUCTION 2011</td>\n",
       "      <td>LOT N015</td>\n",
       "    </tr>\n",
       "    <tr>\n",
       "      <th>29095</th>\n",
       "      <td>NaN</td>\n",
       "      <td>SOLD FOR $184</td>\n",
       "      <td>NaN</td>\n",
       "      <td>RM | AUCTIONS</td>\n",
       "      <td>SPRING CARLISLE AUCTION 2011</td>\n",
       "      <td>LOT N020</td>\n",
       "    </tr>\n",
       "    <tr>\n",
       "      <th>29096</th>\n",
       "      <td>NaN</td>\n",
       "      <td>NaN</td>\n",
       "      <td>NaN</td>\n",
       "      <td>RM | AUCTIONS</td>\n",
       "      <td>SPRING CARLISLE AUCTION 2011</td>\n",
       "      <td>LOT N026</td>\n",
       "    </tr>\n",
       "    <tr>\n",
       "      <th>30107</th>\n",
       "      <td>NaN</td>\n",
       "      <td>NaN</td>\n",
       "      <td>NaN</td>\n",
       "      <td>RM | AUCTIONS</td>\n",
       "      <td>AUCTIONS AMERICA BY RM - AUBURN COLLECTOR CAR ...</td>\n",
       "      <td>LOT 0</td>\n",
       "    </tr>\n",
       "    <tr>\n",
       "      <th>31016</th>\n",
       "      <td>NaN</td>\n",
       "      <td>NaN</td>\n",
       "      <td>NaN</td>\n",
       "      <td>RM | AUCTIONS</td>\n",
       "      <td>AUCTIONS AMERICA BY RM - AUBURN COLLECTOR CAR ...</td>\n",
       "      <td>LOT N138</td>\n",
       "    </tr>\n",
       "  </tbody>\n",
       "</table>\n",
       "</div>"
      ],
      "text/plain": [
       "      car_info          price additional_info   auction_type  \\\n",
       "29087      NaN  SOLD FOR $334             NaN  RM | AUCTIONS   \n",
       "29088      NaN  SOLD FOR $173             NaN  RM | AUCTIONS   \n",
       "29089      NaN  SOLD FOR $219             NaN  RM | AUCTIONS   \n",
       "29090      NaN  SOLD FOR $173             NaN  RM | AUCTIONS   \n",
       "29091      NaN  SOLD FOR $270             NaN  RM | AUCTIONS   \n",
       "29092      NaN  SOLD FOR $173             NaN  RM | AUCTIONS   \n",
       "29093      NaN  SOLD FOR $144             NaN  RM | AUCTIONS   \n",
       "29094      NaN  SOLD FOR $219             NaN  RM | AUCTIONS   \n",
       "29095      NaN  SOLD FOR $184             NaN  RM | AUCTIONS   \n",
       "29096      NaN            NaN             NaN  RM | AUCTIONS   \n",
       "30107      NaN            NaN             NaN  RM | AUCTIONS   \n",
       "31016      NaN            NaN             NaN  RM | AUCTIONS   \n",
       "\n",
       "                                        auction_location       lot  \n",
       "29087                       SPRING CARLISLE AUCTION 2011  LOT N001  \n",
       "29088                       SPRING CARLISLE AUCTION 2011  LOT N002  \n",
       "29089                       SPRING CARLISLE AUCTION 2011  LOT N003  \n",
       "29090                       SPRING CARLISLE AUCTION 2011  LOT N004  \n",
       "29091                       SPRING CARLISLE AUCTION 2011  LOT N005  \n",
       "29092                       SPRING CARLISLE AUCTION 2011  LOT N011  \n",
       "29093                       SPRING CARLISLE AUCTION 2011  LOT N014  \n",
       "29094                       SPRING CARLISLE AUCTION 2011  LOT N015  \n",
       "29095                       SPRING CARLISLE AUCTION 2011  LOT N020  \n",
       "29096                       SPRING CARLISLE AUCTION 2011  LOT N026  \n",
       "30107  AUCTIONS AMERICA BY RM - AUBURN COLLECTOR CAR ...     LOT 0  \n",
       "31016  AUCTIONS AMERICA BY RM - AUBURN COLLECTOR CAR ...  LOT N138  "
      ]
     },
     "execution_count": 181,
     "metadata": {},
     "output_type": "execute_result"
    }
   ],
   "source": [
    "null_infos = auctions[auctions[\"car_info\"].isnull()]\n",
    "null_infos"
   ]
  },
  {
   "cell_type": "code",
   "execution_count": 182,
   "metadata": {},
   "outputs": [],
   "source": [
    "auctions.drop(null_infos.index, axis=0, inplace=True)"
   ]
  },
  {
   "cell_type": "markdown",
   "metadata": {},
   "source": [
    "Since we can see lots of null values in `additional_info` column, let's check if this column is worth keeping. We'll also check out `auction_type` column."
   ]
  },
  {
   "cell_type": "code",
   "execution_count": 183,
   "metadata": {},
   "outputs": [
    {
     "data": {
      "text/plain": [
       "NaN                                                        91.487450\n",
       "FRIDAY                                                      0.655034\n",
       "FROM THE ESTATE OF MR. JOHN O'QUINN                         0.553591\n",
       "OFFERED FROM A PRIVATE COLLECTION                           0.402875\n",
       "THE YOUNGTIMER COLLECTION                                   0.370993\n",
       "                                                             ...    \n",
       "FEATURED IN THE ACADEMY AWARD WINNING FILM \"SEABISCUIT\"     0.002898\n",
       "RARE JL8 FOUR-WHEEL DISC BRAKES OPTION                      0.002898\n",
       "FULLY RESTORED, SHOW QUALITY ICONIC “ROUTE 66” CORVETTE     0.002898\n",
       "JAGUAR                                                      0.002898\n",
       "\"THE MOST FAMOUS CAR IN THE WORLD\"                          0.002898\n",
       "Name: additional_info, Length: 296, dtype: float64"
      ]
     },
     "execution_count": 183,
     "metadata": {},
     "output_type": "execute_result"
    }
   ],
   "source": [
    "((auctions[\"additional_info\"].value_counts(dropna=False))/(auctions.shape[0]))*100"
   ]
  },
  {
   "cell_type": "markdown",
   "metadata": {},
   "source": [
    "Around 90% of this column's values are null, we'll drop it from our dataset."
   ]
  },
  {
   "cell_type": "code",
   "execution_count": 184,
   "metadata": {},
   "outputs": [
    {
     "data": {
      "text/plain": [
       "RM | AUCTIONS       26892\n",
       "RM | SOTHEBY'S       7597\n",
       "RM | ONLINE ONLY       13\n",
       "Name: auction_type, dtype: int64"
      ]
     },
     "execution_count": 184,
     "metadata": {},
     "output_type": "execute_result"
    }
   ],
   "source": [
    "auctions[\"auction_type\"].value_counts(dropna=False)"
   ]
  },
  {
   "cell_type": "markdown",
   "metadata": {},
   "source": [
    "This column can be useful only to specify location as \"Online\" for online auctions. It should be deleted afterwards."
   ]
  },
  {
   "cell_type": "code",
   "execution_count": 185,
   "metadata": {},
   "outputs": [],
   "source": [
    "online_mask = auctions[\"auction_type\"] == \"RM | ONLINE ONLY\"\n",
    "auctions[\"location\"]= np.nan\n",
    "auctions[\"location\"].mask(online_mask, \"Online\", inplace=True)"
   ]
  },
  {
   "cell_type": "code",
   "execution_count": 186,
   "metadata": {},
   "outputs": [],
   "source": [
    "auctions.drop([\"additional_info\", \"auction_type\"], axis=1, inplace=True)"
   ]
  },
  {
   "cell_type": "markdown",
   "metadata": {},
   "source": [
    "Let's check out `lot` column."
   ]
  },
  {
   "cell_type": "code",
   "execution_count": 187,
   "metadata": {},
   "outputs": [
    {
     "data": {
      "text/plain": [
       "LOT 123     107\n",
       "LOT 119     106\n",
       "LOT 121     106\n",
       "LOT 124     106\n",
       "LOT 115     106\n",
       "           ... \n",
       "LOT 7179      1\n",
       "LOT 7188      1\n",
       "LOT W777      1\n",
       "LOT W654      1\n",
       "LOT 7542      1\n",
       "Name: lot, Length: 4084, dtype: int64"
      ]
     },
     "execution_count": 187,
     "metadata": {},
     "output_type": "execute_result"
    }
   ],
   "source": [
    "auctions[\"lot\"].value_counts(dropna=False)"
   ]
  },
  {
   "cell_type": "code",
   "execution_count": 188,
   "metadata": {},
   "outputs": [
    {
     "data": {
      "text/html": [
       "<div>\n",
       "<style scoped>\n",
       "    .dataframe tbody tr th:only-of-type {\n",
       "        vertical-align: middle;\n",
       "    }\n",
       "\n",
       "    .dataframe tbody tr th {\n",
       "        vertical-align: top;\n",
       "    }\n",
       "\n",
       "    .dataframe thead th {\n",
       "        text-align: right;\n",
       "    }\n",
       "</style>\n",
       "<table border=\"1\" class=\"dataframe\">\n",
       "  <thead>\n",
       "    <tr style=\"text-align: right;\">\n",
       "      <th></th>\n",
       "      <th>car_info</th>\n",
       "      <th>price</th>\n",
       "      <th>auction_location</th>\n",
       "      <th>lot</th>\n",
       "      <th>location</th>\n",
       "    </tr>\n",
       "  </thead>\n",
       "  <tbody>\n",
       "  </tbody>\n",
       "</table>\n",
       "</div>"
      ],
      "text/plain": [
       "Empty DataFrame\n",
       "Columns: [car_info, price, auction_location, lot, location]\n",
       "Index: []"
      ]
     },
     "execution_count": 188,
     "metadata": {},
     "output_type": "execute_result"
    }
   ],
   "source": [
    "auctions[auctions[\"lot\"].isnull()]"
   ]
  },
  {
   "cell_type": "markdown",
   "metadata": {},
   "source": [
    "Interestingly, there are no null values, we'll leave this column unchanged and deal with its values in the next step. Let's see `auction_location` now."
   ]
  },
  {
   "cell_type": "code",
   "execution_count": 189,
   "metadata": {},
   "outputs": [
    {
     "data": {
      "text/plain": [
       "AUBURN FALL 2011                                              1147\n",
       "AUBURN FALL 2013                                              1126\n",
       "AUBURN FALL 2014                                              1052\n",
       "AUBURN FALL 2012                                               972\n",
       "AUCTIONS AMERICA BY RM - AUBURN COLLECTOR CAR AUCTION 2010     908\n",
       "                                                              ... \n",
       "THE TAJ MA GARAJ COLLECTION                                     32\n",
       "VILLA D'ESTE 2011                                               31\n",
       "NEW YORK - DRIVEN BY DISRUPTION 2015                            31\n",
       "ONLINE ONLY: DRIVE INTO THE HOLIDAYS 2019                        7\n",
       "NaN                                                              6\n",
       "Name: auction_location, Length: 164, dtype: int64"
      ]
     },
     "execution_count": 189,
     "metadata": {},
     "output_type": "execute_result"
    }
   ],
   "source": [
    "auctions[\"auction_location\"].value_counts(dropna=False)"
   ]
  },
  {
   "cell_type": "code",
   "execution_count": 190,
   "metadata": {},
   "outputs": [
    {
     "data": {
      "text/html": [
       "<div>\n",
       "<style scoped>\n",
       "    .dataframe tbody tr th:only-of-type {\n",
       "        vertical-align: middle;\n",
       "    }\n",
       "\n",
       "    .dataframe tbody tr th {\n",
       "        vertical-align: top;\n",
       "    }\n",
       "\n",
       "    .dataframe thead th {\n",
       "        text-align: right;\n",
       "    }\n",
       "</style>\n",
       "<table border=\"1\" class=\"dataframe\">\n",
       "  <thead>\n",
       "    <tr style=\"text-align: right;\">\n",
       "      <th></th>\n",
       "      <th>car_info</th>\n",
       "      <th>price</th>\n",
       "      <th>auction_location</th>\n",
       "      <th>lot</th>\n",
       "      <th>location</th>\n",
       "    </tr>\n",
       "  </thead>\n",
       "  <tbody>\n",
       "    <tr>\n",
       "      <th>47</th>\n",
       "      <td>1991 NISSAN FIGARO</td>\n",
       "      <td>SOLD FOR $51,750</td>\n",
       "      <td>NaN</td>\n",
       "      <td>LOT</td>\n",
       "      <td>Online</td>\n",
       "    </tr>\n",
       "    <tr>\n",
       "      <th>1048</th>\n",
       "      <td>2001 LOTUS ESPRIT V8 SE</td>\n",
       "      <td>SOLD FOR $40,250</td>\n",
       "      <td>NaN</td>\n",
       "      <td>LOT</td>\n",
       "      <td>Online</td>\n",
       "    </tr>\n",
       "    <tr>\n",
       "      <th>1233</th>\n",
       "      <td>1968 MEYERS MANX</td>\n",
       "      <td>SOLD FOR $55,200</td>\n",
       "      <td>NaN</td>\n",
       "      <td>LOT</td>\n",
       "      <td>Online</td>\n",
       "    </tr>\n",
       "    <tr>\n",
       "      <th>1234</th>\n",
       "      <td>2006 FORD GT</td>\n",
       "      <td>SOLD FOR $310,500</td>\n",
       "      <td>NaN</td>\n",
       "      <td>LOT</td>\n",
       "      <td>Online</td>\n",
       "    </tr>\n",
       "    <tr>\n",
       "      <th>1235</th>\n",
       "      <td>2005 PORSCHE 911 TURBO S CABRIOLET</td>\n",
       "      <td>SOLD FOR $66,125</td>\n",
       "      <td>NaN</td>\n",
       "      <td>LOT</td>\n",
       "      <td>Online</td>\n",
       "    </tr>\n",
       "    <tr>\n",
       "      <th>1571</th>\n",
       "      <td>1967 AUSTIN-HEALEY 3000 MK III BJ8</td>\n",
       "      <td>SOLD FOR $92,000</td>\n",
       "      <td>NaN</td>\n",
       "      <td>LOT</td>\n",
       "      <td>Online</td>\n",
       "    </tr>\n",
       "  </tbody>\n",
       "</table>\n",
       "</div>"
      ],
      "text/plain": [
       "                                 car_info              price auction_location  \\\n",
       "47                    1991 NISSAN FIGARO    SOLD FOR $51,750              NaN   \n",
       "1048             2001 LOTUS ESPRIT V8 SE    SOLD FOR $40,250              NaN   \n",
       "1233                    1968 MEYERS MANX    SOLD FOR $55,200              NaN   \n",
       "1234                        2006 FORD GT   SOLD FOR $310,500              NaN   \n",
       "1235  2005 PORSCHE 911 TURBO S CABRIOLET    SOLD FOR $66,125              NaN   \n",
       "1571  1967 AUSTIN-HEALEY 3000 MK III BJ8    SOLD FOR $92,000              NaN   \n",
       "\n",
       "       lot location  \n",
       "47    LOT    Online  \n",
       "1048  LOT    Online  \n",
       "1233  LOT    Online  \n",
       "1234  LOT    Online  \n",
       "1235  LOT    Online  \n",
       "1571  LOT    Online  "
      ]
     },
     "execution_count": 190,
     "metadata": {},
     "output_type": "execute_result"
    }
   ],
   "source": [
    "auctions[auctions[\"auction_location\"].isnull()== True]"
   ]
  },
  {
   "cell_type": "markdown",
   "metadata": {},
   "source": [
    "All the null values are online auctions; we'll leave them as they are, since original columns will be deleted anyways."
   ]
  },
  {
   "cell_type": "markdown",
   "metadata": {},
   "source": [
    "Let's deal with price column now."
   ]
  },
  {
   "cell_type": "code",
   "execution_count": 201,
   "metadata": {},
   "outputs": [
    {
     "data": {
      "text/plain": [
       "NaN                    4.712770\n",
       "SOLD FOR $33,000       0.779665\n",
       "SOLD FOR $22,000       0.718799\n",
       "SOLD FOR $27,500       0.689815\n",
       "SOLD FOR $38,500       0.649238\n",
       "                         ...   \n",
       "€335,000 - €355,000    0.002898\n",
       "SOLD FOR €352,000      0.002898\n",
       "SOLD FOR $54,000       0.002898\n",
       "SOLD FOR £297,500      0.002898\n",
       "SOLD FOR €44,850       0.002898\n",
       "Name: price, Length: 4110, dtype: float64"
      ]
     },
     "execution_count": 201,
     "metadata": {},
     "output_type": "execute_result"
    }
   ],
   "source": [
    "auctions[\"price\"].value_counts(dropna=False, normalize=True)*100"
   ]
  },
  {
   "cell_type": "markdown",
   "metadata": {},
   "source": [
    "Around 4.7% of all values don't have any price listed. Since it's too many records to just delete them, we need to look at a potential strategy to impute those; we could:\n",
    "- impute them with mean or median price from that auction\n",
    "- impute them with mean or median price for that model (with or without consideration for trend for that model)"
   ]
  },
  {
   "cell_type": "markdown",
   "metadata": {},
   "source": [
    "## Feature engineering"
   ]
  },
  {
   "cell_type": "markdown",
   "metadata": {},
   "source": [
    "Since breaking down existing columns into a few more detailed ones is something we'll do many times, it might be a good idea to write a simple function that does it for us. Luckily, there is already a good function for splitting the data, so we only need a function that assigns the data based on the split."
   ]
  },
  {
   "cell_type": "code",
   "execution_count": 202,
   "metadata": {},
   "outputs": [],
   "source": [
    "def assign_split_data(dataset, split_data, col_list):\n",
    "    for split in range(split_data.shape[1]):\n",
    "        dataset.insert(split, col_list[split], split_data[split])"
   ]
  },
  {
   "cell_type": "markdown",
   "metadata": {},
   "source": [
    "First, let's break down our data into more columns. We'll start with `car_info`."
   ]
  },
  {
   "cell_type": "code",
   "execution_count": 203,
   "metadata": {},
   "outputs": [
    {
     "data": {
      "text/plain": [
       "0             2017 JEEP WRANGLER CUSTOM \n",
       "1    1966 AUSTIN-HEALEY 3000 MK III BJ8 \n",
       "2               1989 FERRARI TESTAROSSA \n",
       "3                         2018 AUDI SQ5 \n",
       "4      1960 AUSTIN-HEALEY 3000 MK I BN7 \n",
       "Name: car_info, dtype: object"
      ]
     },
     "execution_count": 203,
     "metadata": {},
     "output_type": "execute_result"
    }
   ],
   "source": [
    "auctions[\"car_info\"][:5]"
   ]
  },
  {
   "cell_type": "markdown",
   "metadata": {},
   "source": [
    "Seeing the first 5 entires, we can deduct that it's reasonable to split the column into 4 new columns: \n",
    "- year the car was made\n",
    "- manufacturer (the make of the car)\n",
    "- the model\n",
    "- model's variant\n",
    "\n",
    "We could be more specific but that's something we can easily fix later on when we do the initial analysis."
   ]
  },
  {
   "cell_type": "code",
   "execution_count": 204,
   "metadata": {},
   "outputs": [],
   "source": [
    "car_cols = [\"year\", \"manufacturer\", \"model\", \"variant\"]\n",
    "car_split = auctions[\"car_info\"].str.split(\" \", n=3, expand=True)"
   ]
  },
  {
   "cell_type": "code",
   "execution_count": 205,
   "metadata": {},
   "outputs": [],
   "source": [
    "assign_split_data(auctions, car_split, car_cols)"
   ]
  },
  {
   "cell_type": "code",
   "execution_count": 206,
   "metadata": {},
   "outputs": [
    {
     "data": {
      "text/html": [
       "<div>\n",
       "<style scoped>\n",
       "    .dataframe tbody tr th:only-of-type {\n",
       "        vertical-align: middle;\n",
       "    }\n",
       "\n",
       "    .dataframe tbody tr th {\n",
       "        vertical-align: top;\n",
       "    }\n",
       "\n",
       "    .dataframe thead th {\n",
       "        text-align: right;\n",
       "    }\n",
       "</style>\n",
       "<table border=\"1\" class=\"dataframe\">\n",
       "  <thead>\n",
       "    <tr style=\"text-align: right;\">\n",
       "      <th></th>\n",
       "      <th>year</th>\n",
       "      <th>manufacturer</th>\n",
       "      <th>model</th>\n",
       "      <th>variant</th>\n",
       "      <th>car_info</th>\n",
       "      <th>price</th>\n",
       "      <th>auction_location</th>\n",
       "      <th>lot</th>\n",
       "      <th>location</th>\n",
       "    </tr>\n",
       "  </thead>\n",
       "  <tbody>\n",
       "    <tr>\n",
       "      <th>0</th>\n",
       "      <td>2017</td>\n",
       "      <td>JEEP</td>\n",
       "      <td>WRANGLER</td>\n",
       "      <td>CUSTOM</td>\n",
       "      <td>2017 JEEP WRANGLER CUSTOM</td>\n",
       "      <td>SOLD FOR $57,120</td>\n",
       "      <td>ONLINE ONLY: DRIVE INTO THE HOLIDAYS 2019</td>\n",
       "      <td>LOT 107</td>\n",
       "      <td>Online</td>\n",
       "    </tr>\n",
       "    <tr>\n",
       "      <th>1</th>\n",
       "      <td>1966</td>\n",
       "      <td>AUSTIN-HEALEY</td>\n",
       "      <td>3000</td>\n",
       "      <td>MK III BJ8</td>\n",
       "      <td>1966 AUSTIN-HEALEY 3000 MK III BJ8</td>\n",
       "      <td>SOLD FOR $58,240</td>\n",
       "      <td>ONLINE ONLY: DRIVE INTO THE HOLIDAYS 2019</td>\n",
       "      <td>LOT 106</td>\n",
       "      <td>Online</td>\n",
       "    </tr>\n",
       "    <tr>\n",
       "      <th>2</th>\n",
       "      <td>1989</td>\n",
       "      <td>FERRARI</td>\n",
       "      <td>TESTAROSSA</td>\n",
       "      <td></td>\n",
       "      <td>1989 FERRARI TESTAROSSA</td>\n",
       "      <td>SOLD AFTER AUCTION</td>\n",
       "      <td>ONLINE ONLY: DRIVE INTO THE HOLIDAYS 2019</td>\n",
       "      <td>LOT 105</td>\n",
       "      <td>Online</td>\n",
       "    </tr>\n",
       "    <tr>\n",
       "      <th>3</th>\n",
       "      <td>2018</td>\n",
       "      <td>AUDI</td>\n",
       "      <td>SQ5</td>\n",
       "      <td></td>\n",
       "      <td>2018 AUDI SQ5</td>\n",
       "      <td>SOLD FOR $42,560</td>\n",
       "      <td>ONLINE ONLY: DRIVE INTO THE HOLIDAYS 2019</td>\n",
       "      <td>LOT 104</td>\n",
       "      <td>Online</td>\n",
       "    </tr>\n",
       "    <tr>\n",
       "      <th>4</th>\n",
       "      <td>1960</td>\n",
       "      <td>AUSTIN-HEALEY</td>\n",
       "      <td>3000</td>\n",
       "      <td>MK I BN7</td>\n",
       "      <td>1960 AUSTIN-HEALEY 3000 MK I BN7</td>\n",
       "      <td>SOLD FOR $40,320</td>\n",
       "      <td>ONLINE ONLY: DRIVE INTO THE HOLIDAYS 2019</td>\n",
       "      <td>LOT 103</td>\n",
       "      <td>Online</td>\n",
       "    </tr>\n",
       "  </tbody>\n",
       "</table>\n",
       "</div>"
      ],
      "text/plain": [
       "   year   manufacturer       model      variant  \\\n",
       "0  2017           JEEP    WRANGLER      CUSTOM    \n",
       "1  1966  AUSTIN-HEALEY        3000  MK III BJ8    \n",
       "2  1989        FERRARI  TESTAROSSA                \n",
       "3  2018           AUDI         SQ5                \n",
       "4  1960  AUSTIN-HEALEY        3000    MK I BN7    \n",
       "\n",
       "                              car_info               price  \\\n",
       "0           2017 JEEP WRANGLER CUSTOM     SOLD FOR $57,120   \n",
       "1  1966 AUSTIN-HEALEY 3000 MK III BJ8     SOLD FOR $58,240   \n",
       "2             1989 FERRARI TESTAROSSA   SOLD AFTER AUCTION   \n",
       "3                       2018 AUDI SQ5     SOLD FOR $42,560   \n",
       "4    1960 AUSTIN-HEALEY 3000 MK I BN7     SOLD FOR $40,320   \n",
       "\n",
       "                            auction_location      lot location  \n",
       "0  ONLINE ONLY: DRIVE INTO THE HOLIDAYS 2019  LOT 107   Online  \n",
       "1  ONLINE ONLY: DRIVE INTO THE HOLIDAYS 2019  LOT 106   Online  \n",
       "2  ONLINE ONLY: DRIVE INTO THE HOLIDAYS 2019  LOT 105   Online  \n",
       "3  ONLINE ONLY: DRIVE INTO THE HOLIDAYS 2019  LOT 104   Online  \n",
       "4  ONLINE ONLY: DRIVE INTO THE HOLIDAYS 2019  LOT 103   Online  "
      ]
     },
     "execution_count": 206,
     "metadata": {},
     "output_type": "execute_result"
    }
   ],
   "source": [
    "auctions.head(5)"
   ]
  },
  {
   "cell_type": "markdown",
   "metadata": {},
   "source": [
    "Now, let's extract the price and the currency, which we will make uniform as a next step."
   ]
  },
  {
   "cell_type": "code",
   "execution_count": 210,
   "metadata": {},
   "outputs": [],
   "source": [
    "pattern = r'(?<=SOLD FOR)\\s*(.*)\\s*'"
   ]
  },
  {
   "cell_type": "code",
   "execution_count": 213,
   "metadata": {},
   "outputs": [
    {
     "name": "stderr",
     "output_type": "stream",
     "text": [
      "D:\\Anaconda3\\envs\\data-analysis-env\\lib\\site-packages\\ipykernel_launcher.py:5: SettingWithCopyWarning: \n",
      "A value is trying to be set on a copy of a slice from a DataFrame\n",
      "\n",
      "See the caveats in the documentation: http://pandas.pydata.org/pandas-docs/stable/user_guide/indexing.html#returning-a-view-versus-a-copy\n",
      "  \"\"\"\n"
     ]
    }
   ],
   "source": [
    "for row in range(len(auctions)):\n",
    "    try:\n",
    "        price = re.search(pattern, str(auctions[\"price\"][row]), re.IGNORECASE).group(1)\n",
    "        auctions[\"price_val\"][row] = price\n",
    "    except:\n",
    "        auctions[\"price_val\"][row] = \"Not found\""
   ]
  },
  {
   "cell_type": "code",
   "execution_count": 216,
   "metadata": {},
   "outputs": [
    {
     "data": {
      "text/plain": [
       "Not found        9125\n",
       "$33,000           269\n",
       "$22,000           248\n",
       "$27,500           238\n",
       "$38,500           224\n",
       "                 ... \n",
       "$198,800            1\n",
       "KR.10,192,000       1\n",
       "$1,600,000          1\n",
       "$380,000            1\n",
       "$213,400            1\n",
       "Name: price_val, Length: 2955, dtype: int64"
      ]
     },
     "execution_count": 216,
     "metadata": {},
     "output_type": "execute_result"
    }
   ],
   "source": [
    "auctions[\"price_val\"].value_counts(dropna=False)"
   ]
  },
  {
   "cell_type": "code",
   "execution_count": null,
   "metadata": {},
   "outputs": [],
   "source": []
  },
  {
   "cell_type": "code",
   "execution_count": null,
   "metadata": {},
   "outputs": [],
   "source": []
  },
  {
   "cell_type": "code",
   "execution_count": null,
   "metadata": {},
   "outputs": [],
   "source": []
  },
  {
   "cell_type": "code",
   "execution_count": null,
   "metadata": {},
   "outputs": [],
   "source": []
  },
  {
   "cell_type": "code",
   "execution_count": null,
   "metadata": {},
   "outputs": [],
   "source": []
  },
  {
   "cell_type": "code",
   "execution_count": null,
   "metadata": {},
   "outputs": [],
   "source": []
  },
  {
   "cell_type": "markdown",
   "metadata": {},
   "source": [
    "Let's drop the original columns."
   ]
  },
  {
   "cell_type": "code",
   "execution_count": 66,
   "metadata": {},
   "outputs": [],
   "source": [
    "auctions.drop([\"car_info\", \"price\", \"auction_location\"], axis=1, inplace=True)"
   ]
  },
  {
   "cell_type": "markdown",
   "metadata": {},
   "source": [
    "Last step is to export the data for others to use."
   ]
  },
  {
   "cell_type": "code",
   "execution_count": null,
   "metadata": {},
   "outputs": [],
   "source": [
    "# auctions.to_csv(export_path, index = None, header=True)"
   ]
  },
  {
   "cell_type": "markdown",
   "metadata": {},
   "source": [
    "## Conclusions"
   ]
  },
  {
   "cell_type": "code",
   "execution_count": null,
   "metadata": {},
   "outputs": [],
   "source": []
  }
 ],
 "metadata": {
  "kernelspec": {
   "display_name": "Python 3",
   "language": "python",
   "name": "python3"
  },
  "language_info": {
   "codemirror_mode": {
    "name": "ipython",
    "version": 3
   },
   "file_extension": ".py",
   "mimetype": "text/x-python",
   "name": "python",
   "nbconvert_exporter": "python",
   "pygments_lexer": "ipython3",
   "version": "3.6.9"
  }
 },
 "nbformat": 4,
 "nbformat_minor": 2
}
