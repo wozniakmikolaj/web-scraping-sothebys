{
 "cells": [
  {
   "cell_type": "markdown",
   "metadata": {},
   "source": [
    "# Automating the scraping process"
   ]
  },
  {
   "cell_type": "markdown",
   "metadata": {},
   "source": [
    "Imports and constants."
   ]
  },
  {
   "cell_type": "code",
   "execution_count": 68,
   "metadata": {},
   "outputs": [],
   "source": [
    "from selenium.webdriver.support.ui import WebDriverWait\n",
    "from selenium import webdriver\n",
    "from bs4 import BeautifulSoup\n",
    "import re\n",
    "\n",
    "driver_path = \"driver/geckodriver.exe\"\n",
    "page_url = \"https://rmsothebys.com/en/search#/?SortBy=Default&SearchTerm=&Category=All%20Categories&IncludeWithdrawnLots=false&Auction=&OfferStatus=Results&AuctionYear=&Model=Model&Make=Make&FeaturedOnly=false&StillForSaleOnly=false&Collection=All%20Lots&WithoutReserveOnly=false&Day=All%20Days&CategoryTag=All%20Motor%20Vehicles&page=1&pageSize=200&ToYear=NaN&FromYear=NaN\""
   ]
  },
  {
   "cell_type": "code",
   "execution_count": 69,
   "metadata": {},
   "outputs": [],
   "source": [
    "car_info_table = []\n",
    "price_table = []\n",
    "auction_type_table = []\n",
    "auction_location_table = []"
   ]
  },
  {
   "cell_type": "code",
   "execution_count": 70,
   "metadata": {},
   "outputs": [],
   "source": [
    "num_of_pages = 5\n",
    "pattern = r'(?<=\">)\\s*(.*)\\s*(?=</)'\n",
    "\n",
    "for page_number in range(num_of_pages):\n",
    "    page = \"https://rmsothebys.com/en/search#/?SortBy=Default&SearchTerm=&Category=All%20Categories&IncludeWithdrawnLots=false&Auction=&OfferStatus=Results&AuctionYear=&Model=Model&Make=Make&FeaturedOnly=false&StillForSaleOnly=false&Collection=All%20Lots&WithoutReserveOnly=false&Day=All%20Days&CategoryTag=All%20Motor%20Vehicles&page={}&pageSize=200&ToYear=NaN&FromYear=NaN\".format(page_number+1)\n",
    "    driver = webdriver.Firefox(executable_path=driver_path)\n",
    "    driver.get(page)\n",
    "    html_page = BeautifulSoup(driver.page_source)\n",
    "    result_container = html_soup.find_all('div', class_=\"search-result__caption\")\n",
    "    \n",
    "    for result_number in range(len(result_container)):\n",
    "        search_result = result_container[result_number] #0 is the first result of the search, in this case, first car\n",
    "                \n",
    "        car_info = search_result.find_all('p')[0]\n",
    "        price = search_result.find_all('span')[0] #price can be found in the first span, on the 0th position so to speak\n",
    "        auction_type = search_result.find_all('span')[-1] #auction type can be found in the last span found\n",
    "        auction_location = search_result.find_all('h5')[0]\n",
    "        \n",
    "        car_re = re.search(pattern, str(car_info), re.IGNORECASE).group(1)\n",
    "        price_re = re.search(pattern, str(price), re.IGNORECASE).group(1)\n",
    "        auct_type_re = re.search(pattern, str(auction_type), re.IGNORECASE).group(1)\n",
    "        auct_loc_re = re.search(pattern, str(auction_location), re.IGNORECASE).group(1)\n",
    "        \n",
    "        car_info_table.append(car_re)\n",
    "        price_table.append(price_re)\n",
    "        auction_type_table.append(auct_type_re)\n",
    "        auction_location_table.append(auct_loc_re)"
   ]
  },
  {
   "cell_type": "code",
   "execution_count": 60,
   "metadata": {},
   "outputs": [
    {
     "data": {
      "text/plain": [
       "200"
      ]
     },
     "execution_count": 60,
     "metadata": {},
     "output_type": "execute_result"
    }
   ],
   "source": [
    "len(car_info_table)"
   ]
  },
  {
   "cell_type": "code",
   "execution_count": null,
   "metadata": {},
   "outputs": [],
   "source": []
  }
 ],
 "metadata": {
  "kernelspec": {
   "display_name": "Python 3",
   "language": "python",
   "name": "python3"
  },
  "language_info": {
   "codemirror_mode": {
    "name": "ipython",
    "version": 3
   },
   "file_extension": ".py",
   "mimetype": "text/x-python",
   "name": "python",
   "nbconvert_exporter": "python",
   "pygments_lexer": "ipython3",
   "version": "3.7.1"
  }
 },
 "nbformat": 4,
 "nbformat_minor": 2
}
